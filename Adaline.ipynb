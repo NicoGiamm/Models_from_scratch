{
 "cells": [
  {
   "cell_type": "code",
   "execution_count": 1,
   "metadata": {},
   "outputs": [],
   "source": [
    "import pandas as pd\n",
    "import numpy as np\n",
    "from sklearn.datasets import load_iris, load_wine\n",
    "from typing import Union, Tuple\n",
    "import matplotlib.pyplot as plt\n",
    "import seaborn as sns\n",
    "from sklearn.model_selection import train_test_split\n",
    "from sklearn.metrics import accuracy_score\n",
    "from sklearn.preprocessing import StandardScaler\n",
    "\n",
    "plt.rcParams['axes.grid'] = True"
   ]
  },
  {
   "attachments": {},
   "cell_type": "markdown",
   "metadata": {},
   "source": [
    "In this work we will try to build a perceptron from scratch, the Adaline perceptron. \\\n",
    "It works as it follows: \\\n",
    "![adaline](http://rasbt.github.io/mlxtend/user_guide/classifier/Adaline_files/adaline_schematic.png)"
   ]
  },
  {
   "attachments": {},
   "cell_type": "markdown",
   "metadata": {},
   "source": [
    "Let's start by defining the basic structure. \\\n",
    "The optimizer for gradient descent will be mini batch gradient descent and loss function will be mse"
   ]
  },
  {
   "cell_type": "code",
   "execution_count": 2,
   "metadata": {},
   "outputs": [],
   "source": [
    "class Adaline:\n",
    "    \"\"\"\n",
    "    lr: learning rate of the perceptron\n",
    "    epochs: number of epochs to train the perceptron\n",
    "    batch_size: number of rows considered for each weigts update\n",
    "    \"\"\"\n",
    "    def __init__(self, lr: float = 0.005, epochs: int = 30, batch_size: int = 20):\n",
    "        self.lr = lr\n",
    "        self.epochs = epochs\n",
    "        self.bs = batch_size\n",
    "\n",
    "    def fit(self, X: Union[np.ndarray, pd.DataFrame] , y: Union[np.ndarray, pd.Series, pd.DataFrame]) -> None:\n",
    "        self.losses = []\n",
    "        self.weights = self.weights_initializer(X.shape[1] + 1)\n",
    "\n",
    "        for epoch in range(self.epochs):\n",
    "\n",
    "            cost = []\n",
    "            X, y = self.shuffle_data(X, y)\n",
    "            res = X.shape[0]%self.bs\n",
    "            for i in range(int(X.shape[0]/self.bs)):\n",
    "                cost.append(self.backprop(X[self.bs*i:self.bs*(i+1)], y[self.bs*i:self.bs*(i+1)]))\n",
    "            \n",
    "            #Add last batch if not included\n",
    "            cost.append(self.backprop(X[-res:], y[-res:]))\n",
    "\n",
    "            cost = np.array(cost)\n",
    "            self.losses.append(cost.mean())\n",
    "\n",
    "    def weights_initializer(self, dim: int) -> np.ndarray:\n",
    "        weights = np.random.normal(loc=0.01, size=dim)\n",
    "        return weights\n",
    "\n",
    "    def shuffle_data(self, X: Union[np.ndarray, pd.DataFrame], y: Union[np.ndarray, pd.Series, pd.DataFrame]) -> Tuple[np.ndarray, np.ndarray]:\n",
    "        r = np.random.permutation(len(y))\n",
    "        return X[r], y[r]\n",
    "\n",
    "    def forward(self, X: np.ndarray) -> np.ndarray:\n",
    "        output = X.dot(self.weights[1:]) + self.weights[0]\n",
    "        return output\n",
    "\n",
    "    def backprop(self, xi: np.ndarray, yi: np.ndarray) -> float:\n",
    "        output = self.forward(xi)\n",
    "        error = np.array(yi - output)\n",
    "        self.weights[1:] += self.lr * error.dot(xi)\n",
    "        self.weights[0] += self.lr * error.sum()\n",
    "        cost = 0.5 * (error**2).sum()\n",
    "\n",
    "        return cost\n",
    "    \n",
    "    def predict(self, X: Union[np.ndarray, pd.DataFrame]) -> Union[np.ndarray, pd.DataFrame]:\n",
    "        \n",
    "        result = self.forward(X)\n",
    "        result = np.where( (result > 0.5), 1, 0)\n",
    "        return result\n",
    "\n",
    "    def plot_loss(self):\n",
    "\n",
    "        sns.lineplot(x=list(range(1, self.epochs +1)), y=self.losses, marker='o')\n",
    "        plt.xlabel('Epochs')\n",
    "        plt.ylabel('Loss')\n"
   ]
  },
  {
   "cell_type": "code",
   "execution_count": 3,
   "metadata": {},
   "outputs": [],
   "source": [
    "data = load_wine()\n",
    "X, y = data.data, data.target\n",
    "\n",
    "#Select only 2 targets \n",
    "idx = np.where(y<2)\n",
    "X, y = X[idx], y[idx]\n",
    "\n",
    "X_train, X_test, y_train, y_test = train_test_split(X, y, stratify=y)\n",
    "scaler = StandardScaler()\n",
    "X_train = scaler.fit_transform(X_train)\n",
    "X_test = scaler.transform(X_test)"
   ]
  },
  {
   "cell_type": "code",
   "execution_count": 4,
   "metadata": {},
   "outputs": [
    {
     "data": {
      "image/png": "[encoded data removed]",
      "text/plain": [
       "<Figure size 640x480 with 1 Axes>"
      ]
     },
     "metadata": {},
     "output_type": "display_data"
    }
   ],
   "source": [
    "model = Adaline()\n",
    "model.fit(X_train, y_train)\n",
    "model.plot_loss()"
   ]
  },
  {
   "attachments": {},
   "cell_type": "markdown",
   "metadata": {},
   "source": [
    "Let's evaluate the accuracy"
   ]
  },
  {
   "cell_type": "code",
   "execution_count": 5,
   "metadata": {},
   "outputs": [
    {
     "name": "stdout",
     "output_type": "stream",
     "text": [
      "train_accuracy = 1.0\n",
      "test_accuracy = 1.0\n"
     ]
    }
   ],
   "source": [
    "test_accuracy = accuracy_score(y_test, model.predict(X_test))\n",
    "train_accuracy = accuracy_score(y_train, model.predict(X_train))\n",
    "print(f'{train_accuracy = }')\n",
    "print(f'{test_accuracy = }')"
   ]
  },
  {
   "attachments": {},
   "cell_type": "markdown",
   "metadata": {},
   "source": [
    "Let's try to compare the results with a Sklearn model without tuning Hyperparameters"
   ]
  },
  {
   "cell_type": "code",
   "execution_count": 6,
   "metadata": {},
   "outputs": [
    {
     "name": "stdout",
     "output_type": "stream",
     "text": [
      "train_accuracy = 1.0\n",
      "test_accuracy = 1.0\n"
     ]
    }
   ],
   "source": [
    "from sklearn.linear_model import LogisticRegression\n",
    "\n",
    "lr = LogisticRegression()\n",
    "lr.fit(X_train, y_train)\n",
    "\n",
    "test_accuracy = accuracy_score(y_test, lr.predict(X_test))\n",
    "train_accuracy = accuracy_score(y_train, lr.predict(X_train))\n",
    "print(f'{train_accuracy = }')\n",
    "print(f'{test_accuracy = }')"
   ]
  },
  {
   "attachments": {},
   "cell_type": "markdown",
   "metadata": {},
   "source": [
    "As expected, both have very good results, due to the separability of the dataset and the similarity in the structure"
   ]
  },
  {
   "cell_type": "markdown",
   "metadata": {},
   "source": []
  }
 ],
 "metadata": {
  "kernelspec": {
   "display_name": "py10",
   "language": "python",
   "name": "python3"
  },
  "language_info": {
   "codemirror_mode": {
    "name": "ipython",
    "version": 3
   },
   "file_extension": ".py",
   "mimetype": "text/x-python",
   "name": "python",
   "nbconvert_exporter": "python",
   "pygments_lexer": "ipython3",
   "version": "3.10.8"
  },
  "orig_nbformat": 4,
  "vscode": {
   "interpreter": {
    "hash": "09ce35865dbc0a0f15a2fa268b5753389ab6261fa3062ace04afd7504b124c1e"
   }
  }
 },
 "nbformat": 4,
 "nbformat_minor": 2
}
